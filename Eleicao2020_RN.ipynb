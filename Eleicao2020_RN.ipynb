{
  "nbformat": 4,
  "nbformat_minor": 0,
  "metadata": {
    "colab": {
      "name": "Eleicao2020_RN.ipynb",
      "provenance": [],
      "collapsed_sections": [],
      "mount_file_id": "1H9zKO0nNlE5rueRcj94piMmK5K59RR4u",
      "authorship_tag": "ABX9TyOcwHO38ySZKdU+8W8Lo5sV",
      "include_colab_link": true
    },
    "kernelspec": {
      "name": "python3",
      "display_name": "Python 3"
    }
  },
  "cells": [
    {
      "cell_type": "markdown",
      "metadata": {
        "id": "view-in-github",
        "colab_type": "text"
      },
      "source": [
        "<a href=\"https://colab.research.google.com/github/HerminioSabino/Python_DataSet/blob/master/Eleicao2020_RN.ipynb\" target=\"_parent\"><img src=\"https://colab.research.google.com/assets/colab-badge.svg\" alt=\"Open In Colab\"/></a>"
      ]
    },
    {
      "cell_type": "code",
      "metadata": {
        "id": "VCUxJ-mvEmC0"
      },
      "source": [
        "### Rotina para análise da lista de candidatos na eleição 2020 no Rio Grande do Norte\n",
        "\n",
        "### importar bibliotecas\n",
        "import pandas as pd\n",
        "import numpy as np\n",
        "import matplotlib.pyplot as plt"
      ],
      "execution_count": 54,
      "outputs": []
    },
    {
      "cell_type": "code",
      "metadata": {
        "id": "WFzJXAHaFSaR"
      },
      "source": [
        "### Adicionando o dataset e selecionando apenas as colunas desejadas\n",
        "df = pd.read_csv(\"https://raw.githubusercontent.com/HerminioSabino/Python_DataSet/master/Dataset/lista_de_candidatos_-_candidaturas.csv\", sep=\";\",encoding=\"latin-1\")\n",
        "##df = df[['Cargo','Nome do candidato (urna)']]\n"
      ],
      "execution_count": 127,
      "outputs": []
    },
    {
      "cell_type": "code",
      "metadata": {
        "id": "jBdFbWPYL57c"
      },
      "source": [
        "vereadores = pd.DataFrame(df[df.Cargo == \"Vereador\"])\n"
      ],
      "execution_count": 128,
      "outputs": []
    },
    {
      "cell_type": "code",
      "metadata": {
        "id": "1XXteMezt1Ky"
      },
      "source": [
        "vereadores['Número do candidato'] = vereadores['Número do candidato'].astype('string')"
      ],
      "execution_count": 129,
      "outputs": []
    },
    {
      "cell_type": "code",
      "metadata": {
        "id": "6DuI3yI8t_X3"
      },
      "source": [
        "#### Filtrar número com '666' e agrupar por partido\n",
        "ver = vereadores[vereadores['Número do candidato'].str.contains('666')]\n",
        "ver_g = ver.groupby(['Partido']).size().reset_index(name='counts')\n"
      ],
      "execution_count": null,
      "outputs": []
    },
    {
      "cell_type": "code",
      "metadata": {
        "id": "qrV-A4gC0Oga"
      },
      "source": [
        "### Plotar o gráfico com os partidos que possuem candidatos com 666\n",
        "a = ver_g['Partido']\n",
        "p = ver_g['counts']\n",
        "plt.bar(a,p)\n",
        "plt.xticks(rotation=90)\n",
        "plt.grid(True)\n",
        "plt.title(\"Total de candidados que possuem 666 no número\")\n",
        "plt.show()"
      ],
      "execution_count": 157,
      "outputs": []
    },
    {
      "cell_type": "code",
      "metadata": {
        "id": "GWr6GgzPXo3w",
        "outputId": "a2459445-4fe9-49ce-fbd9-e41a869320ed",
        "colab": {
          "base_uri": "https://localhost:8080/",
          "height": 204
        }
      },
      "source": [
        "## conta a quantidade de candidatos que possuem alguma patente militar no nome (fantásia)\n",
        "Ver_PT = pd.DataFrame(vereadores[vereadores['Nome do candidato (urna)'].str.contains('CORONEL')])\n",
        "Ver_PT"
      ],
      "execution_count": 115,
      "outputs": [
        {
          "output_type": "execute_result",
          "data": {
            "text/html": [
              "<div>\n",
              "<style scoped>\n",
              "    .dataframe tbody tr th:only-of-type {\n",
              "        vertical-align: middle;\n",
              "    }\n",
              "\n",
              "    .dataframe tbody tr th {\n",
              "        vertical-align: top;\n",
              "    }\n",
              "\n",
              "    .dataframe thead th {\n",
              "        text-align: right;\n",
              "    }\n",
              "</style>\n",
              "<table border=\"1\" class=\"dataframe\">\n",
              "  <thead>\n",
              "    <tr style=\"text-align: right;\">\n",
              "      <th></th>\n",
              "      <th>Cargo</th>\n",
              "      <th>Nome do candidato (urna)</th>\n",
              "    </tr>\n",
              "  </thead>\n",
              "  <tbody>\n",
              "    <tr>\n",
              "      <th>1984</th>\n",
              "      <td>Vereador</td>\n",
              "      <td>CORONEL ANANIAS</td>\n",
              "    </tr>\n",
              "    <tr>\n",
              "      <th>4973</th>\n",
              "      <td>Vereador</td>\n",
              "      <td>CORONEL MOREIRA</td>\n",
              "    </tr>\n",
              "    <tr>\n",
              "      <th>5179</th>\n",
              "      <td>Vereador</td>\n",
              "      <td>CORONEL GOMES</td>\n",
              "    </tr>\n",
              "    <tr>\n",
              "      <th>5803</th>\n",
              "      <td>Vereador</td>\n",
              "      <td>CORONEL SILVA JUNIOR</td>\n",
              "    </tr>\n",
              "    <tr>\n",
              "      <th>7125</th>\n",
              "      <td>Vereador</td>\n",
              "      <td>CORONEL CAMILO</td>\n",
              "    </tr>\n",
              "  </tbody>\n",
              "</table>\n",
              "</div>"
            ],
            "text/plain": [
              "         Cargo Nome do candidato (urna)\n",
              "1984  Vereador          CORONEL ANANIAS\n",
              "4973  Vereador          CORONEL MOREIRA\n",
              "5179  Vereador            CORONEL GOMES\n",
              "5803  Vereador     CORONEL SILVA JUNIOR\n",
              "7125  Vereador           CORONEL CAMILO"
            ]
          },
          "metadata": {
            "tags": []
          },
          "execution_count": 115
        }
      ]
    }
  ]
}