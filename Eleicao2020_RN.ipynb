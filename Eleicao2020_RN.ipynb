{
  "nbformat": 4,
  "nbformat_minor": 0,
  "metadata": {
    "colab": {
      "name": "Eleicao2020_RN.ipynb",
      "provenance": [],
      "collapsed_sections": [],
      "mount_file_id": "1H9zKO0nNlE5rueRcj94piMmK5K59RR4u",
      "authorship_tag": "ABX9TyO0iWO9mJAuSwLjbhsinzof",
      "include_colab_link": true
    },
    "kernelspec": {
      "name": "python3",
      "display_name": "Python 3"
    }
  },
  "cells": [
    {
      "cell_type": "markdown",
      "metadata": {
        "id": "view-in-github",
        "colab_type": "text"
      },
      "source": [
        "<a href=\"https://colab.research.google.com/github/HerminioSabino/Python_DataSet/blob/master/Eleicao2020_RN.ipynb\" target=\"_parent\"><img src=\"https://colab.research.google.com/assets/colab-badge.svg\" alt=\"Open In Colab\"/></a>"
      ]
    },
    {
      "cell_type": "code",
      "metadata": {
        "id": "VCUxJ-mvEmC0"
      },
      "source": [
        "### Rotina para análise da lista de candidatos na eleição 2020 no Rio Grande do Norte\n",
        "\n",
        "### importar bibliotecas\n",
        "import pandas as pd\n",
        "import numpy as np\n",
        "import matplotlib.pyplot as plt"
      ],
      "execution_count": 1,
      "outputs": []
    },
    {
      "cell_type": "code",
      "metadata": {
        "id": "WFzJXAHaFSaR",
        "outputId": "c52f75c9-1b24-4c99-ac31-16198ab3b251",
        "colab": {
          "base_uri": "https://localhost:8080/",
          "height": 102
        }
      },
      "source": [
        "### Adicionando o dataset e selecionando apenas as colunas desejadas\n",
        "df = pd.read_csv(\"https://raw.githubusercontent.com/HerminioSabino/Python_DataSet/master/Dataset/lista_de_candidatos_-_candidaturas.csv\", sep=\";\",encoding=\"latin-1\")\n",
        "##df = df[['Cargo','Nome do candidato (urna)']]\n",
        "df.columns"
      ],
      "execution_count": 37,
      "outputs": [
        {
          "output_type": "execute_result",
          "data": {
            "text/plain": [
              "Index(['UF', 'Município', 'Partido', 'Número do candidato',\n",
              "       'Nome do candidato', 'Nome do candidato (urna)', 'Cargo',\n",
              "       'Situação da candidatura', 'Detalhe situação candidatura',\n",
              "       'Data eleição', 'Situação de totalização', 'Unnamed: 11'],\n",
              "      dtype='object')"
            ]
          },
          "metadata": {
            "tags": []
          },
          "execution_count": 37
        }
      ]
    },
    {
      "cell_type": "code",
      "metadata": {
        "id": "jBdFbWPYL57c"
      },
      "source": [
        "### Selecionar as colunas necessárias e fazer o filtro apenas para o cargo de vereador\n",
        "vereadores = df[['Número do candidato','Cargo','Partido','Nome do candidato', 'Nome do candidato (urna)']]\n",
        "vereadores = pd.DataFrame(vereadores[vereadores.Cargo == \"Vereador\"])\n",
        "vereadores.columns = ['Numero_candidato', 'Cargo', 'Partido', 'Nome_candidato','Nome_na_urna']"
      ],
      "execution_count": 51,
      "outputs": []
    },
    {
      "cell_type": "code",
      "metadata": {
        "id": "1XXteMezt1Ky"
      },
      "source": [
        "## Transformar o número do candidato em string para usar funções srt\n",
        "vereadores['Numero_candidato'] = vereadores['Numero_candidato'].astype('string')\n",
        "vereadores\n"
      ],
      "execution_count": null,
      "outputs": []
    },
    {
      "cell_type": "code",
      "metadata": {
        "id": "2wFqpXbGATUn"
      },
      "source": [
        "## FAZER O FILTRO COM AS PATENTES (O RESULTADO SERÁ UMA LISTA COM OS TOTAL DE OCORRÊNCIA DE CADA FILTRO)\n",
        "data = [sum(vereadores['Nome_na_urna'].str.contains('SARGENTO')),\n",
        "        sum(vereadores['Nome_na_urna'].str.contains('CAPITÃO')),\n",
        "        sum(vereadores['Nome_na_urna'].str.contains('MAJOR')),\n",
        "        sum(vereadores['Nome_na_urna'].str.contains('CABO')),\n",
        "        sum(vereadores['Nome_na_urna'].str.contains('POLICIAL')),\n",
        "        sum(vereadores['Nome_na_urna'].str.contains('TENENTE'))]\n"
      ],
      "execution_count": 123,
      "outputs": []
    },
    {
      "cell_type": "code",
      "metadata": {
        "id": "Nlyc0OPsE7nX"
      },
      "source": [
        "### CRIAR O DATAFRAME COM OS RESULTADO DO PROCEDIMENTO PASSADO\n",
        "colunas = ['Cargo', 'Valor'] ## NOME DAS COLUNAS\n",
        "filtros = ['SARGENTO','CAPITÃO','MAJOR','CABO','POLICIAL','TENENTE'] ## NOME DOS FILTROS \n",
        "base = pd.DataFrame(columns=colunas)\n",
        "base['Valor'] = data \n",
        "base['Cargo'] = filtros\n",
        "base"
      ],
      "execution_count": null,
      "outputs": []
    },
    {
      "cell_type": "code",
      "metadata": {
        "id": "HvWA0tzzPBDg",
        "outputId": "44597e0d-be65-4d38-87c4-99f96f54a883",
        "colab": {
          "base_uri": "https://localhost:8080/",
          "height": 327
        }
      },
      "source": [
        "plt.bar(base['Cargo'], base['Valor'])\n",
        "plt.xticks(rotation=90)\n",
        "plt.grid(True)\n",
        "plt.title(\"Número de candidados que usam nomes de patentes policiais\")\n",
        "plt.show()"
      ],
      "execution_count": 126,
      "outputs": [
        {
          "output_type": "display_data",
          "data": {
            "image/png": "[encoded data removed]",
            "text/plain": [
              "<Figure size 432x288 with 1 Axes>"
            ]
          },
          "metadata": {
            "tags": [],
            "needs_background": "light"
          }
        }
      ]
    },
    {
      "cell_type": "code",
      "metadata": {
        "id": "6DuI3yI8t_X3"
      },
      "source": [
        "#### Filtrar número com '666' e agrupar por partido\n",
        "ver = vereadores[vereadores['Número do candidato'].str.contains('666')]\n",
        "ver_g = ver.groupby(['Partido']).size().reset_index(name='counts')\n",
        "ver_g.columns = ['Partido', 'Valor']\n",
        "ver_g"
      ],
      "execution_count": null,
      "outputs": []
    },
    {
      "cell_type": "code",
      "metadata": {
        "id": "qrV-A4gC0Oga",
        "outputId": "c5e50792-0f6d-4efd-91e6-62b220eb5e55",
        "colab": {
          "base_uri": "https://localhost:8080/",
          "height": 353
        }
      },
      "source": [
        "### Plotar o gráfico com os partidos que possuem candidatos com 666\n",
        "a = ver_g['Partido']\n",
        "p = ver_g['Valor']\n",
        "plt.bar(a,p)\n",
        "plt.xticks(rotation=90)\n",
        "plt.grid(True)\n",
        "plt.title(\"Total de candidados que possuem 666 no número\")\n",
        "plt.show()"
      ],
      "execution_count": 34,
      "outputs": [
        {
          "output_type": "display_data",
          "data": {
            "image/png": "[encoded data removed]",
            "text/plain": [
              "<Figure size 432x288 with 1 Axes>"
            ]
          },
          "metadata": {
            "tags": [],
            "needs_background": "light"
          }
        }
      ]
    },
    {
      "cell_type": "code",
      "metadata": {
        "id": "GWr6GgzPXo3w"
      },
      "source": [
        "## conta a quantidade de candidatos que possuem \"IRMÃO\" no nome (fantásia)\n",
        "irmao = pd.DataFrame(vereadores[vereadores['Nome do candidato (urna)'].str.contains('IRMÃO')])\n",
        "ver_irmao = irmao.groupby(['Partido']).size().reset_index(name='counts')\n",
        "ver_irmao"
      ],
      "execution_count": null,
      "outputs": []
    },
    {
      "cell_type": "code",
      "metadata": {
        "id": "U1XkZkz116Fy"
      },
      "source": [
        "### Gráfico com o total de candidatos com IRMÃO no nome na URNA\n",
        "plt.bar(ver_irmao['Partido'], ver_irmao['counts'])\n",
        "plt.xticks(rotation=90)\n",
        "plt.grid(True)\n",
        "plt.title(\"Total de candidados que possuem 'IRMÃO' no nome (urna)\")\n",
        "plt.show()"
      ],
      "execution_count": null,
      "outputs": []
    },
    {
      "cell_type": "code",
      "metadata": {
        "id": "fvadE_LO4dZX"
      },
      "source": [
        ""
      ],
      "execution_count": null,
      "outputs": []
    }
  ]
}