{
  "nbformat": 4,
  "nbformat_minor": 0,
  "metadata": {
    "colab": {
      "name": "Eleicao2020_RN.ipynb",
      "provenance": [],
      "collapsed_sections": [],
      "mount_file_id": "1H9zKO0nNlE5rueRcj94piMmK5K59RR4u",
      "authorship_tag": "ABX9TyPh96d6xr82VznXpot0Y5VV",
      "include_colab_link": true
    },
    "kernelspec": {
      "name": "python3",
      "display_name": "Python 3"
    }
  },
  "cells": [
    {
      "cell_type": "markdown",
      "metadata": {
        "id": "view-in-github",
        "colab_type": "text"
      },
      "source": [
        "<a href=\"https://colab.research.google.com/github/HerminioSabino/Python_DataSet/blob/master/Eleicao2020_RN.ipynb\" target=\"_parent\"><img src=\"https://colab.research.google.com/assets/colab-badge.svg\" alt=\"Open In Colab\"/></a>"
      ]
    },
    {
      "cell_type": "code",
      "metadata": {
        "id": "VCUxJ-mvEmC0"
      },
      "source": [
        "### Rotina para análise da lista de candidatos na eleição 2020 no Rio Grande do Norte\n",
        "\n",
        "### importar bibliotecas\n",
        "import pandas as pd\n",
        "import numpy as np\n",
        "import matplotlib.pyplot as plt"
      ],
      "execution_count": 1,
      "outputs": []
    },
    {
      "cell_type": "code",
      "metadata": {
        "id": "WFzJXAHaFSaR"
      },
      "source": [
        "df = pd.read_csv(\"https://raw.githubusercontent.com/HerminioSabino/Python_DataSet/master/Dataset/lista_de_candidatos_-_candidaturas.csv\", sep=\";\",encoding=\"latin-1\")\n",
        "df\n"
      ],
      "execution_count": null,
      "outputs": []
    },
    {
      "cell_type": "code",
      "metadata": {
        "id": "jBdFbWPYL57c",
        "outputId": "f201ca07-0b66-48ca-bbe9-a73964a24d84",
        "colab": {
          "base_uri": "https://localhost:8080/",
          "height": 255
        }
      },
      "source": [
        "vereadores = df[df.Cargo == \"Vereador\"]\n",
        "vereadores = vereadores.drop('Unnamed: 11', axis=1)\n",
        "vereadores.head"
      ],
      "execution_count": 7,
      "outputs": [
        {
          "output_type": "execute_result",
          "data": {
            "text/plain": [
              "<bound method NDFrame.head of        UF  Município  ... Data eleição  Situação de totalização\n",
              "0      RN      ACARI  ...   15.11.2020          Sem totalização\n",
              "1      RN      ACARI  ...   15.11.2020          Sem totalização\n",
              "2      RN      ACARI  ...   15.11.2020          Sem totalização\n",
              "4      RN      ACARI  ...   15.11.2020          Sem totalização\n",
              "5      RN      ACARI  ...   15.11.2020          Sem totalização\n",
              "...    ..        ...  ...          ...                      ...\n",
              "10391  RN  VILA FLOR  ...   15.11.2020          Sem totalização\n",
              "10392  RN  VILA FLOR  ...   15.11.2020          Sem totalização\n",
              "10394  RN  VILA FLOR  ...   15.11.2020          Sem totalização\n",
              "10395  RN  VILA FLOR  ...   15.11.2020          Sem totalização\n",
              "10396  RN  VILA FLOR  ...   15.11.2020          Sem totalização\n",
              "\n",
              "[9381 rows x 11 columns]>"
            ]
          },
          "metadata": {
            "tags": []
          },
          "execution_count": 7
        }
      ]
    },
    {
      "cell_type": "code",
      "metadata": {
        "id": "GWr6GgzPXo3w",
        "outputId": "79f386ec-7150-41e1-b130-6a9d891b9dd6",
        "colab": {
          "base_uri": "https://localhost:8080/",
          "height": 221
        }
      },
      "source": [
        "## conta a quantidade de candidatos que possuem alguma patente militar no nome (fantasia)\n",
        "Ver_PT = vereadores[vereadores['Nome do candidato (urna)'].str.contains('SOLDADO')]\n",
        "Ver_PT.count()"
      ],
      "execution_count": 18,
      "outputs": [
        {
          "output_type": "execute_result",
          "data": {
            "text/plain": [
              "UF                              4\n",
              "Município                       4\n",
              "Partido                         4\n",
              "Número do candidato             4\n",
              "Nome do candidato               4\n",
              "Nome do candidato (urna)        4\n",
              "Cargo                           4\n",
              "Situação da candidatura         4\n",
              "Detalhe situação candidatura    4\n",
              "Data eleição                    4\n",
              "Situação de totalização         4\n",
              "dtype: int64"
            ]
          },
          "metadata": {
            "tags": []
          },
          "execution_count": 18
        }
      ]
    },
    {
      "cell_type": "code",
      "metadata": {
        "id": "2a1y3SrbQ3QT",
        "outputId": "a14dbd7d-fa87-4d0a-c0f2-e801e2b1afb5",
        "colab": {
          "base_uri": "https://localhost:8080/",
          "height": 221
        }
      },
      "source": [
        "vereadores['Nome do candidato (urna)'].value_counts()"
      ],
      "execution_count": 35,
      "outputs": [
        {
          "output_type": "execute_result",
          "data": {
            "text/plain": [
              "ANA PAULA            10\n",
              "JOÃO MARIA            9\n",
              "MARQUINHOS            6\n",
              "MARIA JOSÉ            6\n",
              "LUCIANA               5\n",
              "                     ..\n",
              "VICTOR GUERRA         1\n",
              "REGINA MARANGONHA     1\n",
              "CLEGIO NUNES          1\n",
              "CATECA                1\n",
              "ALDO MARINHO          1\n",
              "Name: Nome do candidato (urna), Length: 8894, dtype: int64"
            ]
          },
          "metadata": {
            "tags": []
          },
          "execution_count": 35
        }
      ]
    }
  ]
}